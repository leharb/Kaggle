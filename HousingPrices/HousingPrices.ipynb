{
 "cells": [
  {
   "cell_type": "code",
   "execution_count": 137,
   "metadata": {},
   "outputs": [],
   "source": [
    "import numpy as np\n",
    "import pandas as pd\n",
    "from sklearn.neighbors import KNeighborsClassifier\n",
    "from sklearn.model_selection import KFold\n",
    "from sklearn.model_selection import cross_val_score\n",
    "from sklearn.tree import DecisionTreeRegressor\n",
    "from sklearn.ensemble import RandomForestClassifier\n",
    "from sklearn.naive_bayes import GaussianNB\n",
    "from sklearn.svm import SVC\n",
    "from sklearn.preprocessing import LabelEncoder\n",
    "import seaborn as sns\n",
    "\n",
    "\n",
    "train = pd.read_csv('train.csv')\n",
    "test_X = pd.read_csv('test.csv')\n",
    "\n",
    "test_ID = test_X['Id']\n",
    "\n",
    "train_X = train.drop(['SalePrice'], axis=1)\n",
    "train_Y = train['SalePrice']\n",
    "\n",
    "#print(train_X)\n",
    "train_test_data = [train_X, test_X]\n",
    "\n",
    "#Drop columns which have >50% value as NULL\n",
    "drop_columns = ['Alley', 'PoolQC', 'Fence', 'MiscFeature', 'Id']\n",
    "\n",
    "for dataset in train_test_data:\n",
    "    dataset.drop(drop_columns, axis=1, inplace=True)\n",
    "\n",
    "#Handle missing values\n",
    "for dataset in train_test_data:\n",
    "    dataset['LotFrontage'].fillna(dataset['LotFrontage'].mean(), inplace=True)\n",
    "    dataset['BsmtQual'].fillna(dataset['BsmtQual'].mode()[0], inplace=True)\n",
    "    dataset['FireplaceQu'].fillna(dataset['FireplaceQu'].mode()[0], inplace=True)\n",
    "    dataset['GarageType'].fillna(dataset['GarageType'].mode()[0], inplace=True)\n",
    "    dataset['GarageYrBlt'].fillna(dataset['GarageYrBlt'].mean(), inplace=True)\n",
    "    dataset['GarageFinish'].fillna(dataset['GarageFinish'].mode()[0], inplace=True)\n",
    "    dataset['GarageQual'].fillna(dataset['GarageQual'].mode()[0], inplace=True)\n",
    "    dataset['GarageCond'].fillna(dataset['GarageCond'].mode()[0], inplace=True)\n",
    "    dataset['MasVnrType'].fillna(dataset['MasVnrType'].mode()[0], inplace=True)\n",
    "    dataset['MasVnrArea'].fillna(dataset['MasVnrArea'].mean(), inplace=True)\n",
    "    dataset['BsmtFinSF1'].fillna(dataset['BsmtFinSF1'].mean(), inplace=True)\n",
    "    dataset['BsmtFinSF2'].fillna(dataset['BsmtFinSF2'].mean(), inplace=True)\n",
    "    dataset['BsmtUnfSF'].fillna(dataset['BsmtUnfSF'].mean(), inplace=True)\n",
    "    dataset['TotalBsmtSF'].fillna(dataset['TotalBsmtSF'].mean(), inplace=True)\n",
    "\n",
    "\n",
    "test_X['MSZoning'].fillna(test_X['MSZoning'].mode()[0], inplace=True)\n",
    "test_X['Utilities'].fillna(test_X['Utilities'].mode()[0], inplace=True)\n",
    "test_X['Exterior1st'].fillna(test_X['Exterior1st'].mode()[0], inplace=True)\n",
    "test_X['Exterior2nd'].fillna(test_X['Exterior2nd'].mode()[0], inplace=True)\n",
    "test_X['BsmtFullBath'].fillna(test_X['BsmtFullBath'].mode()[0], inplace=True)\n",
    "test_X['BsmtHalfBath'].fillna(test_X['BsmtHalfBath'].mode()[0], inplace=True)\n",
    "test_X['KitchenQual'].fillna(test_X['KitchenQual'].mode()[0], inplace=True)\n",
    "test_X['Functional'].fillna(test_X['Functional'].mode()[0], inplace=True)\n",
    "test_X['GarageCars'].fillna(test_X['GarageCars'].mode()[0], inplace=True)\n",
    "test_X['GarageArea'].fillna(test_X['GarageArea'].mean(), inplace=True)\n",
    "test_X['SaleType'].fillna(test_X['SaleType'].mode()[0], inplace=True)\n",
    "\n",
    "#Handling categorical data\n",
    "\n",
    "categorical_columns=['MSZoning','Street','LotShape','LandContour','Utilities','LotConfig','LandSlope','Neighborhood',\n",
    "         'Condition2','BldgType','Condition1','HouseStyle','SaleType',\n",
    "        'SaleCondition','ExterCond',\n",
    "         'ExterQual','Foundation','BsmtQual','BsmtCond','BsmtExposure','BsmtFinType1','BsmtFinType2',\n",
    "        'RoofStyle','RoofMatl','Exterior1st','Exterior2nd','MasVnrType','Heating','HeatingQC',\n",
    "         'CentralAir',\n",
    "         'Electrical','KitchenQual','Functional',\n",
    "         'FireplaceQu','GarageType','GarageFinish','GarageQual','GarageCond','PavedDrive']\n",
    "\n",
    "combined_data = pd.concat([train_X, test_X], axis=0)\n",
    "\n",
    "#print(combined_data.shape)\n",
    "label_encoder = LabelEncoder()\n",
    "\n",
    "for col in categorical_columns:\n",
    "    combined_data[col] = label_encoder.fit_transform(combined_data[col].astype(str))\n",
    "\n",
    "train_X = combined_data[:1460]\n",
    "test_X = combined_data[1460:]\n",
    "\n",
    "\n",
    "#test_X.columns[test_X.isnull().any()]\n",
    "#train_X.columns[test_X.isnull().any()]\n",
    "\n"
   ]
  },
  {
   "cell_type": "code",
   "execution_count": 139,
   "metadata": {},
   "outputs": [
    {
     "data": {
      "text/plain": [
       "0.89"
      ]
     },
     "execution_count": 139,
     "metadata": {},
     "output_type": "execute_result"
    }
   ],
   "source": [
    "k_fold = KFold(n_splits=10, shuffle=True, random_state=0)\n",
    "clf = DecisionTreeRegressor()\n",
    "scoring = 'accuracy'\n",
    "score = cross_val_score(clf, train_X, train_Y, cv=k_fold, n_jobs = 1, scoring= scoring)\n",
    "#print(score)\n",
    "round(np.mean(score)*100, 2)"
   ]
  },
  {
   "cell_type": "code",
   "execution_count": 140,
   "metadata": {},
   "outputs": [
    {
     "data": {
      "text/plain": [
       "DecisionTreeRegressor(criterion='mse', max_depth=None, max_features=None,\n",
       "                      max_leaf_nodes=None, min_impurity_decrease=0.0,\n",
       "                      min_impurity_split=None, min_samples_leaf=1,\n",
       "                      min_samples_split=2, min_weight_fraction_leaf=0.0,\n",
       "                      presort=False, random_state=None, splitter='best')"
      ]
     },
     "execution_count": 140,
     "metadata": {},
     "output_type": "execute_result"
    }
   ],
   "source": [
    "clf.fit(train_X, train_Y)"
   ]
  },
  {
   "cell_type": "code",
   "execution_count": 141,
   "metadata": {
    "scrolled": true
   },
   "outputs": [],
   "source": [
    "y_pred = clf.predict(test_X)\n",
    "\n"
   ]
  },
  {
   "cell_type": "code",
   "execution_count": 144,
   "metadata": {},
   "outputs": [
    {
     "name": "stdout",
     "output_type": "stream",
     "text": [
      "(1459, 75)\n"
     ]
    }
   ],
   "source": [
    "print(test_X.shape)"
   ]
  },
  {
   "cell_type": "code",
   "execution_count": 145,
   "metadata": {},
   "outputs": [],
   "source": [
    "submission = pd.DataFrame({'Id' : test_ID, \n",
    "                           'SalePrice' : y_pred\n",
    "                          })\n",
    "submission.to_csv('submission.csv', index=False)\n",
    "\n",
    "submission_file = pd.read_csv('submission.csv')"
   ]
  },
  {
   "cell_type": "code",
   "execution_count": 149,
   "metadata": {},
   "outputs": [
    {
     "name": "stdout",
     "output_type": "stream",
     "text": [
      "        Id  SalePrice\n",
      "0     1461   129000.0\n",
      "1     1462   155000.0\n",
      "2     1463   192000.0\n",
      "3     1464   177500.0\n",
      "4     1465   213500.0\n",
      "5     1466   130500.0\n",
      "6     1467   138800.0\n",
      "7     1468   177500.0\n",
      "8     1469   189000.0\n",
      "9     1470   129500.0\n",
      "10    1471   206300.0\n",
      "11    1472    88000.0\n",
      "12    1473    88000.0\n",
      "13    1474   148500.0\n",
      "14    1475   139400.0\n",
      "15    1476   446261.0\n",
      "16    1477   232000.0\n",
      "17    1478   315000.0\n",
      "18    1479   232000.0\n",
      "19    1480   385000.0\n",
      "20    1481   285000.0\n",
      "21    1482   202500.0\n",
      "22    1483   176432.0\n",
      "23    1484   213490.0\n",
      "24    1485   184000.0\n",
      "25    1486   224900.0\n",
      "26    1487   410000.0\n",
      "27    1488   147000.0\n",
      "28    1489   198900.0\n",
      "29    1490   193500.0\n",
      "...    ...        ...\n",
      "1429  2890   105900.0\n",
      "1430  2891   117000.0\n",
      "1431  2892    34900.0\n",
      "1432  2893    89500.0\n",
      "1433  2894    34900.0\n",
      "1434  2895   372402.0\n",
      "1435  2896   235000.0\n",
      "1436  2897   197500.0\n",
      "1437  2898   150900.0\n",
      "1438  2899   225000.0\n",
      "1439  2900   152000.0\n",
      "1440  2901   168000.0\n",
      "1441  2902   175000.0\n",
      "1442  2903   319000.0\n",
      "1443  2904   395192.0\n",
      "1444  2905    98000.0\n",
      "1445  2906   206300.0\n",
      "1446  2907   115000.0\n",
      "1447  2908   125500.0\n",
      "1448  2909   143000.0\n",
      "1449  2910    86000.0\n",
      "1450  2911    88000.0\n",
      "1451  2912   147500.0\n",
      "1452  2913    80000.0\n",
      "1453  2914    75500.0\n",
      "1454  2915    84500.0\n",
      "1455  2916    83500.0\n",
      "1456  2917   139000.0\n",
      "1457  2918   108000.0\n",
      "1458  2919   200000.0\n",
      "\n",
      "[1459 rows x 2 columns]\n"
     ]
    }
   ],
   "source": []
  },
  {
   "cell_type": "code",
   "execution_count": null,
   "metadata": {},
   "outputs": [],
   "source": []
  }
 ],
 "metadata": {
  "kernelspec": {
   "display_name": "Python 3",
   "language": "python",
   "name": "python3"
  },
  "language_info": {
   "codemirror_mode": {
    "name": "ipython",
    "version": 3
   },
   "file_extension": ".py",
   "mimetype": "text/x-python",
   "name": "python",
   "nbconvert_exporter": "python",
   "pygments_lexer": "ipython3",
   "version": "3.7.3"
  }
 },
 "nbformat": 4,
 "nbformat_minor": 2
}
