{
 "cells": [
  {
   "cell_type": "code",
   "execution_count": 176,
   "metadata": {},
   "outputs": [],
   "source": [
    "import numpy as np\n",
    "import pandas as pd\n",
    "from sklearn.neighbors import KNeighborsClassifier\n",
    "from sklearn.model_selection import KFold\n",
    "from sklearn.model_selection import cross_val_score\n",
    "from sklearn.tree import DecisionTreeRegressor\n",
    "from sklearn.ensemble import RandomForestRegressor\n",
    "from sklearn.naive_bayes import GaussianNB\n",
    "from sklearn.svm import SVR\n",
    "from sklearn.preprocessing import LabelEncoder\n",
    "import seaborn as sns\n",
    "\n",
    "\n",
    "train = pd.read_csv('train.csv')\n",
    "test_X = pd.read_csv('test.csv')\n",
    "\n",
    "test_ID = test_X['Id']\n",
    "\n",
    "train_X = train.drop(['SalePrice'], axis=1)\n",
    "train_Y = train['SalePrice']\n",
    "\n",
    "#print(train_X)\n",
    "train_test_data = [train_X, test_X]\n",
    "\n",
    "#Drop columns which have >50% value as NULL\n",
    "drop_columns = ['Alley', 'PoolQC', 'Fence', 'MiscFeature', 'Id']\n",
    "\n",
    "for dataset in train_test_data:\n",
    "    dataset.drop(drop_columns, axis=1, inplace=True)\n",
    "\n",
    "#Handle missing values\n",
    "for dataset in train_test_data:\n",
    "    dataset['LotFrontage'].fillna(dataset['LotFrontage'].mean(), inplace=True)\n",
    "    dataset['BsmtQual'].fillna(dataset['BsmtQual'].mode()[0], inplace=True)\n",
    "    dataset['FireplaceQu'].fillna(dataset['FireplaceQu'].mode()[0], inplace=True)\n",
    "    dataset['GarageType'].fillna(dataset['GarageType'].mode()[0], inplace=True)\n",
    "    dataset['GarageYrBlt'].fillna(dataset['GarageYrBlt'].mean(), inplace=True)\n",
    "    dataset['GarageFinish'].fillna(dataset['GarageFinish'].mode()[0], inplace=True)\n",
    "    dataset['GarageQual'].fillna(dataset['GarageQual'].mode()[0], inplace=True)\n",
    "    dataset['GarageCond'].fillna(dataset['GarageCond'].mode()[0], inplace=True)\n",
    "    dataset['MasVnrType'].fillna(dataset['MasVnrType'].mode()[0], inplace=True)\n",
    "    dataset['MasVnrArea'].fillna(dataset['MasVnrArea'].mean(), inplace=True)\n",
    "    dataset['BsmtFinSF1'].fillna(dataset['BsmtFinSF1'].mean(), inplace=True)\n",
    "    dataset['BsmtFinSF2'].fillna(dataset['BsmtFinSF2'].mean(), inplace=True)\n",
    "    dataset['BsmtUnfSF'].fillna(dataset['BsmtUnfSF'].mean(), inplace=True)\n",
    "    dataset['TotalBsmtSF'].fillna(dataset['TotalBsmtSF'].mean(), inplace=True)\n",
    "\n",
    "\n",
    "test_X['MSZoning'].fillna(test_X['MSZoning'].mode()[0], inplace=True)\n",
    "test_X['Utilities'].fillna(test_X['Utilities'].mode()[0], inplace=True)\n",
    "test_X['Exterior1st'].fillna(test_X['Exterior1st'].mode()[0], inplace=True)\n",
    "test_X['Exterior2nd'].fillna(test_X['Exterior2nd'].mode()[0], inplace=True)\n",
    "test_X['BsmtFullBath'].fillna(test_X['BsmtFullBath'].mode()[0], inplace=True)\n",
    "test_X['BsmtHalfBath'].fillna(test_X['BsmtHalfBath'].mode()[0], inplace=True)\n",
    "test_X['KitchenQual'].fillna(test_X['KitchenQual'].mode()[0], inplace=True)\n",
    "test_X['Functional'].fillna(test_X['Functional'].mode()[0], inplace=True)\n",
    "test_X['GarageCars'].fillna(test_X['GarageCars'].mode()[0], inplace=True)\n",
    "test_X['GarageArea'].fillna(test_X['GarageArea'].mean(), inplace=True)\n",
    "test_X['SaleType'].fillna(test_X['SaleType'].mode()[0], inplace=True)\n",
    "\n",
    "#Handling categorical data\n",
    "\n",
    "categorical_columns=['MSZoning','Street','LotShape','LandContour','Utilities','LotConfig','LandSlope','Neighborhood',\n",
    "         'Condition2','BldgType','Condition1','HouseStyle','SaleType',\n",
    "        'SaleCondition','ExterCond',\n",
    "         'ExterQual','Foundation','BsmtQual','BsmtCond','BsmtExposure','BsmtFinType1','BsmtFinType2',\n",
    "        'RoofStyle','RoofMatl','Exterior1st','Exterior2nd','MasVnrType','Heating','HeatingQC',\n",
    "         'CentralAir',\n",
    "         'Electrical','KitchenQual','Functional',\n",
    "         'FireplaceQu','GarageType','GarageFinish','GarageQual','GarageCond','PavedDrive']\n",
    "\n",
    "combined_data = pd.concat([train_X, test_X], axis=0)\n",
    "\n",
    "#print(combined_data.shape)\n",
    "label_encoder = LabelEncoder()\n",
    "\n",
    "for col in categorical_columns:\n",
    "    combined_data[col] = label_encoder.fit_transform(combined_data[col].astype(str))\n",
    "\n",
    "train_X = combined_data[:1460]\n",
    "test_X = combined_data[1460:]\n",
    "\n",
    "\n",
    "#test_X.columns[test_X.isnull().any()]\n",
    "#train_X.columns[test_X.isnull().any()]\n",
    "\n"
   ]
  },
  {
   "cell_type": "code",
   "execution_count": 177,
   "metadata": {},
   "outputs": [],
   "source": [
    "k_fold = KFold(n_splits=10, shuffle=True, random_state=0)\n",
    "clf = RandomForestRegressor(n_estimators=115)\n"
   ]
  },
  {
   "cell_type": "code",
   "execution_count": 178,
   "metadata": {},
   "outputs": [
    {
     "data": {
      "text/plain": [
       "RandomForestRegressor(bootstrap=True, criterion='mse', max_depth=None,\n",
       "                      max_features='auto', max_leaf_nodes=None,\n",
       "                      min_impurity_decrease=0.0, min_impurity_split=None,\n",
       "                      min_samples_leaf=1, min_samples_split=2,\n",
       "                      min_weight_fraction_leaf=0.0, n_estimators=115,\n",
       "                      n_jobs=None, oob_score=False, random_state=None,\n",
       "                      verbose=0, warm_start=False)"
      ]
     },
     "execution_count": 178,
     "metadata": {},
     "output_type": "execute_result"
    }
   ],
   "source": [
    "clf.fit(train_X, train_Y)"
   ]
  },
  {
   "cell_type": "code",
   "execution_count": 179,
   "metadata": {
    "scrolled": true
   },
   "outputs": [],
   "source": [
    "y_pred = clf.predict(test_X)\n",
    "\n"
   ]
  },
  {
   "cell_type": "code",
   "execution_count": 180,
   "metadata": {},
   "outputs": [
    {
     "name": "stdout",
     "output_type": "stream",
     "text": [
      "(1459, 75)\n"
     ]
    }
   ],
   "source": [
    "print(test_X.shape)"
   ]
  },
  {
   "cell_type": "code",
   "execution_count": 181,
   "metadata": {},
   "outputs": [],
   "source": [
    "submission = pd.DataFrame({'Id' : test_ID, \n",
    "                           'SalePrice' : y_pred\n",
    "                          })\n",
    "submission.to_csv('submission.csv', index=False)\n",
    "\n",
    "submission_file = pd.read_csv('submission.csv')"
   ]
  },
  {
   "cell_type": "code",
   "execution_count": null,
   "metadata": {},
   "outputs": [],
   "source": []
  },
  {
   "cell_type": "code",
   "execution_count": null,
   "metadata": {},
   "outputs": [],
   "source": []
  }
 ],
 "metadata": {
  "kernelspec": {
   "display_name": "Python 3",
   "language": "python",
   "name": "python3"
  },
  "language_info": {
   "codemirror_mode": {
    "name": "ipython",
    "version": 3
   },
   "file_extension": ".py",
   "mimetype": "text/x-python",
   "name": "python",
   "nbconvert_exporter": "python",
   "pygments_lexer": "ipython3",
   "version": "3.7.3"
  }
 },
 "nbformat": 4,
 "nbformat_minor": 2
}
