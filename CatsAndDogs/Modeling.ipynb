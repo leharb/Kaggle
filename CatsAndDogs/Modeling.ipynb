{
 "cells": [
  {
   "cell_type": "code",
   "execution_count": 1,
   "metadata": {},
   "outputs": [
    {
     "name": "stdout",
     "output_type": "stream",
     "text": [
      "WARNING:tensorflow:From C:\\Users\\Lehar\\Anaconda3\\lib\\site-packages\\tensorflow\\python\\ops\\init_ops.py:1251: calling VarianceScaling.__init__ (from tensorflow.python.ops.init_ops) with dtype is deprecated and will be removed in a future version.\n",
      "Instructions for updating:\n",
      "Call initializer instance with the dtype argument instead of passing it to the constructor\n",
      "WARNING:tensorflow:From C:\\Users\\Lehar\\Anaconda3\\lib\\site-packages\\tensorflow\\python\\ops\\nn_impl.py:180: add_dispatch_support.<locals>.wrapper (from tensorflow.python.ops.array_ops) is deprecated and will be removed in a future version.\n",
      "Instructions for updating:\n",
      "Use tf.where in 2.0, which has the same broadcast rule as np.where\n"
     ]
    }
   ],
   "source": [
    "import numpy as np\n",
    "from tensorflow.keras.models import Sequential\n",
    "from tensorflow.keras.layers import Dense, Flatten, Dropout, Activation, Conv2D, MaxPooling2D\n",
    "\n",
    "X_train = np.load('training.npy')\n",
    "y_train = np.load('training_labels.npy')\n",
    "X_test = np.load('test.npy')\n",
    "\n",
    "X_train = X_train.reshape(-1,100,100,1)\n",
    "X_test = X_test.reshape(-1,100,100,1)\n",
    "\n",
    "model = Sequential()\n",
    "# Adds a densely-connected layer with 64 units to the model:\n",
    "model.add(Conv2D(64,(3,3), activation = 'relu', input_shape = X_train.shape[1:]))\n",
    "model.add(MaxPooling2D(pool_size = (2,2)))\n",
    "# Add another:\n",
    "model.add(Conv2D(64,(3,3), activation = 'relu'))\n",
    "model.add(MaxPooling2D(pool_size = (2,2)))\n",
    "model.add(Flatten())\n",
    "model.add(Dense(64, activation='relu'))\n",
    "# Add a softmax layer with 1 output unit:\n",
    "model.add(Dense(1, activation='sigmoid'))\n",
    "\n",
    "model.compile(optimizer=\"adam\",\n",
    "              loss='binary_crossentropy',\n",
    "              metrics=['accuracy'])\n"
   ]
  },
  {
   "cell_type": "code",
   "execution_count": null,
   "metadata": {},
   "outputs": [
    {
     "name": "stdout",
     "output_type": "stream",
     "text": [
      "Train on 20000 samples, validate on 5000 samples\n",
      "Epoch 1/15\n",
      "20000/20000 [==============================] - 239s 12ms/sample - loss: 2.2334 - acc: 0.6262 - val_loss: 0.9428 - val_acc: 0.1702\n",
      "Epoch 2/15\n",
      "20000/20000 [==============================] - 252s 13ms/sample - loss: 0.6095 - acc: 0.6596 - val_loss: 0.9917 - val_acc: 0.3044\n",
      "Epoch 3/15\n",
      "20000/20000 [==============================] - 539s 27ms/sample - loss: 0.5489 - acc: 0.7188 - val_loss: 0.9311 - val_acc: 0.4270\n",
      "Epoch 4/15\n",
      "20000/20000 [==============================] - 284s 14ms/sample - loss: 0.4661 - acc: 0.7740 - val_loss: 0.7633 - val_acc: 0.6394\n",
      "Epoch 5/15\n",
      "20000/20000 [==============================] - 415s 21ms/sample - loss: 0.3457 - acc: 0.8439 - val_loss: 1.2311 - val_acc: 0.5066\n",
      "Epoch 6/15\n",
      "20000/20000 [==============================] - 411s 21ms/sample - loss: 0.2472 - acc: 0.8973 - val_loss: 1.1139 - val_acc: 0.6258\n",
      "Epoch 7/15\n",
      "20000/20000 [==============================] - 413s 21ms/sample - loss: 0.1528 - acc: 0.9392 - val_loss: 1.8948 - val_acc: 0.5234\n",
      "Epoch 8/15\n",
      " 4352/20000 [=====>........................] - ETA: 4:11 - loss: 0.0686 - acc: 0.9789"
     ]
    }
   ],
   "source": [
    "model.fit(X_train, y_train, epochs=15, batch_size=32, validation_split=0.2)"
   ]
  },
  {
   "cell_type": "code",
   "execution_count": null,
   "metadata": {},
   "outputs": [],
   "source": [
    "predictions = model.predict(X_test)"
   ]
  }
 ],
 "metadata": {
  "kernelspec": {
   "display_name": "Python 3",
   "language": "python",
   "name": "python3"
  },
  "language_info": {
   "codemirror_mode": {
    "name": "ipython",
    "version": 3
   },
   "file_extension": ".py",
   "mimetype": "text/x-python",
   "name": "python",
   "nbconvert_exporter": "python",
   "pygments_lexer": "ipython3",
   "version": "3.7.3"
  }
 },
 "nbformat": 4,
 "nbformat_minor": 2
}
